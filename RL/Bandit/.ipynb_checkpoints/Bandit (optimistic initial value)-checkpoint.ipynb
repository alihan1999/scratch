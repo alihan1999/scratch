{
 "cells": [
  {
   "cell_type": "code",
   "execution_count": 1,
   "metadata": {},
   "outputs": [],
   "source": [
    "from bandit_class import Bandit\n",
    "import matplotlib.pyplot as plt"
   ]
  },
  {
   "cell_type": "code",
   "execution_count": 2,
   "metadata": {},
   "outputs": [],
   "source": [
    "import numpy as np"
   ]
  },
  {
   "cell_type": "code",
   "execution_count": 51,
   "metadata": {},
   "outputs": [],
   "source": [
    "initial_values = [120,20,100,12]"
   ]
  },
  {
   "cell_type": "code",
   "execution_count": 52,
   "metadata": {},
   "outputs": [],
   "source": [
    "BANDIT_MEANS = [1.5,2.75,2,1.9]"
   ]
  },
  {
   "cell_type": "code",
   "execution_count": 53,
   "metadata": {},
   "outputs": [],
   "source": [
    "trials = 10000"
   ]
  },
  {
   "cell_type": "code",
   "execution_count": 54,
   "metadata": {},
   "outputs": [],
   "source": [
    "bandits = []\n",
    "\n",
    "for i in range(len(BANDIT_MEANS)):\n",
    "\n",
    "    \n",
    "    bandits.append(Bandit(BANDIT_MEANS[i],i+1,initial_values[i]))"
   ]
  },
  {
   "cell_type": "code",
   "execution_count": 55,
   "metadata": {},
   "outputs": [],
   "source": [
    "def experiment(bandits,trials):\n",
    "    \n",
    "    \n",
    "    best=0\n",
    "    \n",
    "    rewards=[0]*trials\n",
    "    \n",
    "    optimal = np.argmax(BANDIT_MEANS)\n",
    "    \n",
    "\n",
    "    \n",
    "    for n in range(trials):\n",
    "        \n",
    "        \n",
    "        i = np.argmax([p.m_estimate for p in bandits])\n",
    "\n",
    "    \n",
    "        x = bandits[i].play()\n",
    "        \n",
    "        rewards[n] = x\n",
    "            \n",
    "        bandits[i].update(x)\n",
    "\n",
    "    \n",
    "    for b in bandits:\n",
    "        print(f\"estimated mean for machine {b.i} = {b.m_estimate}\")\n",
    "    \n",
    "    cumulative_avg = np.cumsum(rewards)/(np.arange(trials)+1)\n",
    "    \n",
    "    for b in bandits:\n",
    "        \n",
    "        plt.plot(np.ones(trials)*b.m)\n",
    "    \n",
    "   \n",
    "    \n",
    "    plt.plot(cumulative_avg)\n",
    "    \n",
    "    plt.xscale('log')\n",
    "    \n",
    "    \n",
    "    plt.show()\n",
    "        \n",
    "\n",
    "    \n",
    "        "
   ]
  },
  {
   "cell_type": "code",
   "execution_count": 56,
   "metadata": {},
   "outputs": [
    {
     "name": "stdout",
     "output_type": "stream",
     "text": [
      "estimated mean for machine 1 = 1.9575592945480893\n",
      "estimated mean for machine 2 = 2.753267822678428\n",
      "estimated mean for machine 3 = 2.016869436760535\n",
      "estimated mean for machine 4 = 1.291680411152171\n"
     ]
    },
    {
     "data": {
      "image/png": "[encoded data removed]",
      "text/plain": [
       "<Figure size 432x288 with 1 Axes>"
      ]
     },
     "metadata": {
      "needs_background": "light"
     },
     "output_type": "display_data"
    }
   ],
   "source": [
    "experiment(bandits,trials)"
   ]
  },
  {
   "cell_type": "code",
   "execution_count": null,
   "metadata": {},
   "outputs": [],
   "source": []
  }
 ],
 "metadata": {
  "kernelspec": {
   "display_name": "Python 3",
   "language": "python",
   "name": "python3"
  },
  "language_info": {
   "codemirror_mode": {
    "name": "ipython",
    "version": 3
   },
   "file_extension": ".py",
   "mimetype": "text/x-python",
   "name": "python",
   "nbconvert_exporter": "python",
   "pygments_lexer": "ipython3",
   "version": "3.7.3"
  }
 },
 "nbformat": 4,
 "nbformat_minor": 2
}
