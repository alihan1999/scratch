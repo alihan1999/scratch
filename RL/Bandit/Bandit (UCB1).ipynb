{
 "cells": [
  {
   "cell_type": "code",
   "execution_count": 10,
   "metadata": {},
   "outputs": [],
   "source": [
    "import numpy as np\n",
    "from bandit_class import Bandit\n",
    "import matplotlib.pyplot as plt"
   ]
  },
  {
   "cell_type": "code",
   "execution_count": 71,
   "metadata": {},
   "outputs": [],
   "source": [
    "BANDIT_MEANS = [1.5,2.4,3,3.3,3.5,4.2]"
   ]
  },
  {
   "cell_type": "code",
   "execution_count": 72,
   "metadata": {},
   "outputs": [],
   "source": [
    "trials = 10000"
   ]
  },
  {
   "cell_type": "code",
   "execution_count": 73,
   "metadata": {},
   "outputs": [],
   "source": [
    "bandits = []\n",
    "\n",
    "for i in range(len(BANDIT_MEANS)):\n",
    "\n",
    "    \n",
    "    bandits.append(Bandit(BANDIT_MEANS[i],i+1))"
   ]
  },
  {
   "cell_type": "code",
   "execution_count": 74,
   "metadata": {},
   "outputs": [],
   "source": [
    "def UCB1(mean,played,N):\n",
    "    \n",
    "    return mean + np.sqrt(2*np.log(N)/(played+1))"
   ]
  },
  {
   "cell_type": "code",
   "execution_count": 75,
   "metadata": {},
   "outputs": [],
   "source": [
    "def experiment(bandits,trials):\n",
    "    \n",
    "    \n",
    "    best=0\n",
    "    \n",
    "    rewards=[0]*trials\n",
    "    \n",
    "    optimal = np.argmax(BANDIT_MEANS)\n",
    "    \n",
    "    picked = [0]*len(bandits)\n",
    "    \n",
    "    \n",
    "    for n in range(trials):\n",
    "        \n",
    "        \n",
    "        i = np.argmax([UCB1(b.m,b.trials,n+1) for b in bandits])\n",
    "        \n",
    "        picked[i]+=1\n",
    "        \n",
    "        \n",
    "\n",
    "    \n",
    "        x = bandits[i].play()\n",
    "        \n",
    "        rewards[n] = x\n",
    "            \n",
    "        bandits[i].update(x)\n",
    "\n",
    "    \n",
    "    for b in bandits:\n",
    "        print(f\"estimated mean for machine {b.i} = {b.m_estimate}\")\n",
    "    \n",
    "    cumulative_avg = np.cumsum(rewards)/(np.arange(trials)+1)\n",
    "    \n",
    "    for b in bandits:\n",
    "        \n",
    "        plt.plot(np.ones(trials)*b.m)\n",
    "    \n",
    "   \n",
    "    \n",
    "    plt.plot(cumulative_avg)\n",
    "    \n",
    "    plt.xscale('log')\n",
    "    \n",
    "    \n",
    "    plt.show()\n",
    "    \n",
    "    for i in range(len(picked)):\n",
    "        \n",
    "        print(f\"picked machine {i+1}, {picked[i]} times\\n\")\n",
    "    \n",
    "    print(f\"the optimal machine number: {optimal+1}\")"
   ]
  },
  {
   "cell_type": "code",
   "execution_count": 76,
   "metadata": {},
   "outputs": [
    {
     "name": "stdout",
     "output_type": "stream",
     "text": [
      "estimated mean for machine 1 = 2.7458511889670074\n",
      "estimated mean for machine 2 = 2.441658830325767\n",
      "estimated mean for machine 3 = 3.335930022318273\n",
      "estimated mean for machine 4 = 3.7262935756663715\n",
      "estimated mean for machine 5 = 3.3043509896602976\n",
      "estimated mean for machine 6 = 4.176466970643377\n"
     ]
    },
    {
     "data": {
      "image/png": "[encoded data removed]",
      "text/plain": [
       "<Figure size 432x288 with 1 Axes>"
      ]
     },
     "metadata": {
      "needs_background": "light"
     },
     "output_type": "display_data"
    },
    {
     "name": "stdout",
     "output_type": "stream",
     "text": [
      "picked machine 1, 2 times\n",
      "\n",
      "picked machine 2, 5 times\n",
      "\n",
      "picked machine 3, 11 times\n",
      "\n",
      "picked machine 4, 20 times\n",
      "\n",
      "picked machine 5, 33 times\n",
      "\n",
      "picked machine 6, 9929 times\n",
      "\n",
      "the optimal machine number: 6\n"
     ]
    }
   ],
   "source": [
    "experiment(bandits,trials)"
   ]
  },
  {
   "cell_type": "code",
   "execution_count": null,
   "metadata": {},
   "outputs": [],
   "source": []
  }
 ],
 "metadata": {
  "kernelspec": {
   "display_name": "Python 3",
   "language": "python",
   "name": "python3"
  },
  "language_info": {
   "codemirror_mode": {
    "name": "ipython",
    "version": 3
   },
   "file_extension": ".py",
   "mimetype": "text/x-python",
   "name": "python",
   "nbconvert_exporter": "python",
   "pygments_lexer": "ipython3",
   "version": "3.7.3"
  }
 },
 "nbformat": 4,
 "nbformat_minor": 2
}
