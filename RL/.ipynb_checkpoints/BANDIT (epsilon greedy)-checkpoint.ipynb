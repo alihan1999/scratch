{
 "cells": [
  {
   "cell_type": "code",
   "execution_count": 148,
   "metadata": {},
   "outputs": [],
   "source": [
    "import numpy as np\n",
    "import matplotlib.pyplot as plt"
   ]
  },
  {
   "cell_type": "code",
   "execution_count": 149,
   "metadata": {},
   "outputs": [],
   "source": [
    "import random"
   ]
  },
  {
   "cell_type": "code",
   "execution_count": 262,
   "metadata": {},
   "outputs": [],
   "source": [
    "BANDIT_DISTS = [0.2,0.5,0.45,.33,.23]"
   ]
  },
  {
   "cell_type": "code",
   "execution_count": 263,
   "metadata": {},
   "outputs": [],
   "source": [
    "class Bandit:\n",
    "    \n",
    "    def __init__(self,p,i):\n",
    "        \n",
    "        self.p=p\n",
    "        \n",
    "        self.p_estimate = 0\n",
    "        \n",
    "        self.trials = 0\n",
    "        \n",
    "        self.i = i\n",
    "        \n",
    "        \n",
    "    \n",
    "    def play(self):\n",
    "        \n",
    "        \n",
    "        return np.random.random() < self.p\n",
    "    \n",
    "    def update(self,x):\n",
    "        \n",
    "        self.trials+=1\n",
    "        \n",
    "        self.p_estimate = (self.p_estimate*(self.trials-1)+x) * (1/self.trials)"
   ]
  },
  {
   "cell_type": "code",
   "execution_count": 264,
   "metadata": {},
   "outputs": [],
   "source": [
    "def get_bandits(dists):\n",
    "    bandits = [Bandit(p,i) for p,i in zip(dists,range(1,len(dists)+1)) ]\n",
    "    \n",
    "    return bandits"
   ]
  },
  {
   "cell_type": "code",
   "execution_count": 265,
   "metadata": {},
   "outputs": [],
   "source": [
    "trials = 10000\n",
    "epsilon = .1"
   ]
  },
  {
   "cell_type": "code",
   "execution_count": 266,
   "metadata": {},
   "outputs": [],
   "source": [
    "def experiment(bandits,epsilon,trials):\n",
    "    \n",
    "    explore=0\n",
    "    exploit=0\n",
    "    \n",
    "    best=0\n",
    "    \n",
    "    optimal = np.argmax(BANDIT_DISTS)\n",
    "    \n",
    "\n",
    "    \n",
    "    for n in range(trials):\n",
    "        \n",
    "        i=0\n",
    "        \n",
    "    \n",
    "        p = np.random.random()\n",
    "    \n",
    "    \n",
    "    \n",
    "        if p < epsilon:\n",
    "            explore+=1\n",
    "        \n",
    "            i = np.random.randint(len(bandits))\n",
    "            \n",
    "            \n",
    "        else:\n",
    "            exploit+=1\n",
    "            \n",
    "            i = np.argmax([x.p_estimate for x in bandits])\n",
    "        \n",
    "        \n",
    "           \n",
    "        \n",
    "        if i==optimal:\n",
    "            best+=1\n",
    "    \n",
    "        x = bandits[i].play()\n",
    "            \n",
    "        bandits[i].update(x)\n",
    "    \n",
    "    print(f\"best={best}\")\n",
    "    print(f\"explore={explore}\")\n",
    "    \n",
    "    for b in bandits:\n",
    "        print(b.p_estimate)\n",
    "    \n",
    "    \n",
    "        \n",
    "\n",
    "    \n",
    "        \n",
    "        \n",
    "        \n",
    "    \n",
    "    "
   ]
  },
  {
   "cell_type": "code",
   "execution_count": 267,
   "metadata": {},
   "outputs": [
    {
     "name": "stdout",
     "output_type": "stream",
     "text": [
      "best=8898\n",
      "explore=1010\n",
      "0.1928251121076233\n",
      "0.5032591593616512\n",
      "0.4773869346733663\n",
      "0.32017543859649117\n",
      "0.2371541501976284\n"
     ]
    }
   ],
   "source": [
    "experiment(get_bandits(BANDIT_DISTS),epsilon,trials)"
   ]
  },
  {
   "cell_type": "code",
   "execution_count": null,
   "metadata": {},
   "outputs": [],
   "source": []
  }
 ],
 "metadata": {
  "kernelspec": {
   "display_name": "Python 3",
   "language": "python",
   "name": "python3"
  },
  "language_info": {
   "codemirror_mode": {
    "name": "ipython",
    "version": 3
   },
   "file_extension": ".py",
   "mimetype": "text/x-python",
   "name": "python",
   "nbconvert_exporter": "python",
   "pygments_lexer": "ipython3",
   "version": "3.7.3"
  }
 },
 "nbformat": 4,
 "nbformat_minor": 2
}
